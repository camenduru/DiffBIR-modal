{
 "cells": [
  {
   "cell_type": "markdown",
   "metadata": {
    "id": "view-in-github"
   },
   "source": [
    "[![Open In Colab](https://colab.research.google.com/assets/colab-badge.svg)](https://colab.research.google.com/github/camenduru/DiffBIR-modal/blob/main/DiffBIR_modal.ipynb)"
   ]
  },
  {
   "cell_type": "code",
   "execution_count": null,
   "metadata": {},
   "outputs": [],
   "source": [
    "!pip install modal\n",
    "!modal token set --token-id TOKEN-ID --token-secret TOKEN-SECRET\n",
    "!wget https://github.com/camenduru/DiffBIR-modal/raw/main/demo.py -O /content/demo.py\n",
    "!modal run -d -q /content/demo.py"
   ]
  }
 ],
 "metadata": {
  "language_info": {
   "name": "python"
  },
  "orig_nbformat": 4
 },
 "nbformat": 4,
 "nbformat_minor": 2
}
